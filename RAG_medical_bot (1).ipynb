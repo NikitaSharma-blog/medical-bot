{
 "cells": [
  {
   "cell_type": "markdown",
   "id": "02eae525",
   "metadata": {},
   "source": [
    "#### Build BioMistral Medical RAG Chatbot using BioMistral Open Source LLM"
   ]
  },
  {
   "cell_type": "code",
   "execution_count": null,
   "id": "48c5d7d7",
   "metadata": {},
   "outputs": [],
   "source": [
    "# Installation\n",
    "\n",
    "!pip install langchain sentence-transformers chromadb llama-cpp-python langchain_community pypdf"
   ]
  },
  {
   "cell_type": "markdown",
   "id": "4b73e1d5",
   "metadata": {},
   "source": [
    "#### importing libraries"
   ]
  },
  {
   "cell_type": "code",
   "execution_count": null,
   "id": "6e1dbf19",
   "metadata": {},
   "outputs": [],
   "source": [
    "from langchain_community.document_loaders import PyPDFDirectoryLoader\n",
    "from langchain.text_splitter import RecursiveCharacterTextSplitter\n",
    "from langchain_community.embeddings import SentenceTransformerEmbeddings\n",
    "from langchain.vectorstores import chroma\n",
    "from langchain_community.llms import llamaCpp\n",
    "from langchain.chains import RetrievalQA, LLMChain"
   ]
  },
  {
   "cell_type": "markdown",
   "id": "d79a1767",
   "metadata": {},
   "source": [
    "#### Import the documents "
   ]
  },
  {
   "cell_type": "code",
   "execution_count": null,
   "id": "8d9d56f8",
   "metadata": {},
   "outputs": [],
   "source": [
    "loader = PyPDFDirectoryLoader(\"'datasets/train.csv'\")\n",
    "docs = loader.load()"
   ]
  },
  {
   "cell_type": "code",
   "execution_count": null,
   "id": "30c3ade2",
   "metadata": {},
   "outputs": [],
   "source": [
    "len(docs)"
   ]
  },
  {
   "cell_type": "code",
   "execution_count": null,
   "id": "93ae2cfa",
   "metadata": {},
   "outputs": [],
   "source": [
    "docs[6]"
   ]
  },
  {
   "cell_type": "markdown",
   "id": "f9891376",
   "metadata": {},
   "source": [
    "#### Chunking"
   ]
  },
  {
   "cell_type": "code",
   "execution_count": null,
   "id": "41f520e4",
   "metadata": {},
   "outputs": [],
   "source": [
    "text_splitter = RecursiveCharacterTextSplitter(chunk_size=300, chunk_overlap=50)\n",
    "chunks = text_splitter.split_documents(docs)"
   ]
  },
  {
   "cell_type": "code",
   "execution_count": null,
   "id": "690a7c0a",
   "metadata": {},
   "outputs": [],
   "source": [
    "len(chunks)"
   ]
  },
  {
   "cell_type": "code",
   "execution_count": null,
   "id": "97ce30ce",
   "metadata": {},
   "outputs": [],
   "source": [
    "chunks[600]"
   ]
  },
  {
   "cell_type": "code",
   "execution_count": null,
   "id": "484074c4",
   "metadata": {},
   "outputs": [],
   "source": [
    "chunks[601]"
   ]
  },
  {
   "cell_type": "markdown",
   "id": "e1006db9",
   "metadata": {},
   "source": [
    "#### Embeddings creations"
   ]
  },
  {
   "cell_type": "code",
   "execution_count": 1,
   "id": "5917adb1",
   "metadata": {},
   "outputs": [],
   "source": [
    "import os\n",
    "os.environ['HUGGINGFACEHUB_API_TOKEN'] = \"Enter your secret token here "
   ]
  },
  {
   "cell_type": "code",
   "execution_count": null,
   "id": "0423dfc6",
   "metadata": {},
   "outputs": [],
   "source": [
    "embeddings = SentenceTransformerEmbeddings(model_name='NeuML/pubmedbert-base-embeddings') #initializig pubmedbert-base-embeddings model"
   ]
  },
  {
   "cell_type": "markdown",
   "id": "c231a566",
   "metadata": {},
   "source": [
    "#### Vector Store Creation"
   ]
  },
  {
   "cell_type": "code",
   "execution_count": null,
   "id": "41e1f63b",
   "metadata": {},
   "outputs": [],
   "source": [
    "vectorstore = Chroma.from_documents(chunks, embeddings)  #here if we will give chunks only, that means we are performing keyword search.\n",
    "#but if we are using both chunks and embeddins we are using vector search"
   ]
  },
  {
   "cell_type": "code",
   "execution_count": null,
   "id": "ac4d863d",
   "metadata": {},
   "outputs": [],
   "source": [
    "#check how well the vector store is working\n",
    "\n",
    "query = \"who is at risk of the heart disease\"\n",
    "search_results = vectorstore.similarity_search(query)"
   ]
  },
  {
   "cell_type": "code",
   "execution_count": null,
   "id": "3509b752",
   "metadata": {},
   "outputs": [],
   "source": [
    "search_results"
   ]
  },
  {
   "cell_type": "code",
   "execution_count": null,
   "id": "2e64f879",
   "metadata": {},
   "outputs": [],
   "source": [
    "retriever = vectorstore.as_retriever(search_kwargs={'k':5})"
   ]
  },
  {
   "cell_type": "code",
   "execution_count": null,
   "id": "ad9c5ec0",
   "metadata": {},
   "outputs": [],
   "source": [
    "retriever.get_relevant_documents(query)"
   ]
  },
  {
   "cell_type": "markdown",
   "id": "7975b1dd",
   "metadata": {},
   "source": [
    "#### LLM model loading"
   ]
  },
  {
   "cell_type": "code",
   "execution_count": null,
   "id": "9f12b5cf",
   "metadata": {},
   "outputs": [],
   "source": [
    "# we first have to download the model and upload into google drive as the size would be 4B or more, \n",
    "# then load the google drive here"
   ]
  },
  {
   "cell_type": "code",
   "execution_count": null,
   "id": "253dcac3",
   "metadata": {},
   "outputs": [],
   "source": [
    "LlamaCpp(\n",
    "    model_path=\"/content/drive/MyDrive/BioMistral-7B.Q4_K_M.gguf\",\n",
    "    temprature=0.2,\n",
    "    max_tokens=2048,\n",
    "    top_p=1\n",
    "    \n",
    ")\n",
    "\n",
    "#this will load the model here frim google drive"
   ]
  },
  {
   "cell_type": "markdown",
   "id": "0eb50be1",
   "metadata": {},
   "source": [
    "#### Use LLM and retriever and query here to generate the final response"
   ]
  },
  {
   "cell_type": "code",
   "execution_count": null,
   "id": "2bfbe751",
   "metadata": {},
   "outputs": [],
   "source": [
    "# prompt template creation\n",
    "\n",
    "template = \"\"\"\n",
    "<|context|> #this indicates that this is a placeholder and will get the data will be filled here from the retrieval. basically dynamic\n",
    "You are a medical assistant that follows the instructions and generate the accurate response based on the query and the context provided.\n",
    "Please be truthful and give direct answers. #this is to reduce the hallucinations\n",
    "</s> \n",
    "<|user|>\n",
    "{query}\n",
    "</s> #format separator\n",
    "<|assistant|> #the role of an LLM, because it should provide you the answers.\n",
    "\"\"\""
   ]
  },
  {
   "cell_type": "code",
   "execution_count": 7,
   "id": "16eebec8",
   "metadata": {},
   "outputs": [],
   "source": [
    " # <|context|> , <|user|>, {query}, <|assistant|> are the dynamic values"
   ]
  },
  {
   "cell_type": "code",
   "execution_count": null,
   "id": "e46073ce",
   "metadata": {},
   "outputs": [],
   "source": [
    "Building LLM Application"
   ]
  },
  {
   "cell_type": "code",
   "execution_count": null,
   "id": "19ecb4fb",
   "metadata": {},
   "outputs": [],
   "source": [
    "# using chain method\n",
    "\n",
    "from langchain.schema.runnable import RunnablePassthrough\n",
    "from langchain.schema.output_parser import StrOutputParser\n",
    "from langchain.prompts import ChatPromptTemplate # for building template\n"
   ]
  },
  {
   "cell_type": "code",
   "execution_count": null,
   "id": "94523578",
   "metadata": {},
   "outputs": [],
   "source": [
    "prompt = ChatPromptTemplate.from_template(template)"
   ]
  },
  {
   "cell_type": "code",
   "execution_count": null,
   "id": "191dd40b",
   "metadata": {},
   "outputs": [],
   "source": [
    "reg_chain = (\n",
    "    {\"context\": retriever, \"query\":RunnablePassthrough()}  # RunnablePassthrough() indicates the real time user query, in context we are passing the data holding by retriever\n",
    "    | prompt #this is a total template made up of both context n query\n",
    "    | llm    # pass prompt to llm\n",
    "    | StrOutputParser()  #show llm output usin it\n",
    ")"
   ]
  },
  {
   "cell_type": "code",
   "execution_count": null,
   "id": "96b31766",
   "metadata": {},
   "outputs": [],
   "source": [
    "response = reg_chain.invoke(query)"
   ]
  },
  {
   "cell_type": "code",
   "execution_count": null,
   "id": "8e53efd2",
   "metadata": {},
   "outputs": [],
   "source": [
    "response   # this response is generated by LLM (the proper response)"
   ]
  },
  {
   "cell_type": "code",
   "execution_count": null,
   "id": "6ba5120d",
   "metadata": {},
   "outputs": [],
   "source": [
    "# to make the chat interactive as a chatbot we will have to call all this in a loop\n",
    "\n",
    "import sys\n",
    "\n",
    "while True:\n",
    "    user_input = input(f\"input query:\")\n",
    "    if user_input =='exit':\n",
    "        print(\"Exiting\")\n",
    "        sys.exit()\n",
    "    if user_input == '':\n",
    "        continue\n",
    "    result = rag_chain.invoke(user_input)\n",
    "    print(\"Answer:\", result)"
   ]
  },
  {
   "cell_type": "code",
   "execution_count": null,
   "id": "5dd19a6f",
   "metadata": {},
   "outputs": [],
   "source": []
  }
 ],
 "metadata": {
  "kernelspec": {
   "display_name": "Python 3 (ipykernel)",
   "language": "python",
   "name": "python3"
  },
  "language_info": {
   "codemirror_mode": {
    "name": "ipython",
    "version": 3
   },
   "file_extension": ".py",
   "mimetype": "text/x-python",
   "name": "python",
   "nbconvert_exporter": "python",
   "pygments_lexer": "ipython3",
   "version": "3.11.5"
  }
 },
 "nbformat": 4,
 "nbformat_minor": 5
}
